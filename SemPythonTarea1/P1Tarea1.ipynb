{
 "cells": [
  {
   "cell_type": "markdown",
   "metadata": {},
   "source": [
    "# Pregunta1\n",
    "<br>\n",
    "En la carpeta Tarea1_2020, encontrará tres tablas, las cuales corresponden a datos anonimizados\n",
    "de ventas de tiendas de retail en Estados Unidos entre los años 2010 y 2012. A continuación\n",
    "una descripción de los datos.\n",
    "<br>\n",
    "\n",
    "\n",
    "- __Features:__ Contiene atributos globales de la economía del pais.<br>\n",
    "> __Store:__ Corresponde a la Tienda según un código.<br>\n",
    "__Date:__ Fecha, la data está por semana.<br>\n",
    "__Temperature:__ Temperatura, medida en grados fahrenheit.<br>\n",
    "__Fuel_Price:__ Precio en Dólares del galon de combustible (1G = 4.55L)<br>\n",
    "__MarkdownX:__ Cantidad liquidada en dólares por evento de liquidación.<br>\n",
    "__CPI:__ Índice de precios al consumidor (IPC), tomando como base la canasta de bienes\n",
    "de 1912.<br>\n",
    "__Unemployment:__ Tasa de desempleo.<br>\n",
    "__IsHoliday:__ Booleano que indica si es un día feriado.<br>\n",
    "- __Sales:__ Contiene la información de ventas de las tiendas<br>\n",
    ">__Store:__ Corresponde a la Tienda según un código, el cual corresponde con la table\n",
    "features.<br>\n",
    "__Date:__ Fecha, por semana.<br>\n",
    "__Dept:__ Departamento, un departamento corresponde a una división de productos.<br>\n",
    "&emsp;Por ejemplo en un supermercado un departamento puede ser “Lácteos”. Estos se\n",
    "encuentran anonimizados.<br>\n",
    "__Weekly_Sales:__ Ventas semanales en Dólares.<br>\n",
    "__IsHoliday:__ Booleano que indica si es un día feriado.<br>\n",
    "- __Stores:__ Contiene información adicional de las tiendas.<br>\n",
    ">__Store:__ Corresponde a la Tienda según un Código, el cual corresponde a Features.<br>\n",
    "__Type:__ Formato de tienda que opera. Un formato puede ser por ejemplo “Hipermercado”\n",
    "o “Tienda de Conveniencia”<br>\n",
    "__Size:__ Tamaño de tienda en pies cuadrados.<br>\n",
    "<br>\n",
    "\n",
    "Para esta pregunta, se pide hacer un análisis descriptivo de la información entregada usando\n",
    "Python. En particular:"
   ]
  },
  {
   "cell_type": "markdown",
   "metadata": {},
   "source": [
    "1. Usando Pandas, transforme todas las unidades que se encuentran en sistema imperial, a sistema métrico (pies a metros, grados Fahrenheit a Celsius, galones a litros)."
   ]
  },
  {
   "cell_type": "code",
   "execution_count": 1,
   "metadata": {},
   "outputs": [],
   "source": [
    "import pandas as pd\n",
    "import matplotlib as mpl"
   ]
  },
  {
   "cell_type": "markdown",
   "metadata": {},
   "source": [
    "2. Obtenga las ventas totales y promedio por tienda y por semana. ¿Cómo afecta los días feriados a las ventas?, obtenga la razón entre la venta promedio un feriado y la venta promedio un día normal por tienda. Indique las 10 tiendas más afectadas por los días feriados."
   ]
  },
  {
   "cell_type": "code",
   "execution_count": null,
   "metadata": {},
   "outputs": [],
   "source": []
  },
  {
   "cell_type": "markdown",
   "metadata": {},
   "source": [
    "3. Obtenga un gráfico de línea de las ventas promedio por formato de tienda. Los gráficos deben estar todos en una misma ventana."
   ]
  },
  {
   "cell_type": "code",
   "execution_count": null,
   "metadata": {},
   "outputs": [],
   "source": []
  },
  {
   "cell_type": "markdown",
   "metadata": {},
   "source": [
    "4. Obtenga la correlación de las ventas totales por tienda con el índice de precio del consumidor (CPI), Temperatura, Desempleo y precio de los combustibles. Investigue la función “heatmap” de la librería “seaborn”. Utilícela para mostrar las correlaciones anteriores en una visualización con colores."
   ]
  },
  {
   "cell_type": "code",
   "execution_count": null,
   "metadata": {},
   "outputs": [],
   "source": []
  },
  {
   "cell_type": "markdown",
   "metadata": {},
   "source": [
    "5. Investigue sobre la función “rolling” de pandas, úsela para obtener un forecast de venta sencillo para las próximas 12 semanas, para cada Departamento - Tienda. El forecast lo puede obtener con la media móvil de las últimas 12 semanas."
   ]
  },
  {
   "cell_type": "code",
   "execution_count": null,
   "metadata": {},
   "outputs": [],
   "source": []
  },
  {
   "cell_type": "markdown",
   "metadata": {},
   "source": [
    "6. A los forecast anteriores, calcule el MAPE (Mean Absolute Percentual Error), definido como:\n",
    "\\begin{equation*} \\text{MAPE} = \\frac{1}{n} \\sum_{i=1}^{n} \\frac{y_i - \\hat{y}_i} {y_i}\\qquad \\end{equation*}\n",
    "Calcule este indicador para cada Departamento-Tienda, indique las 10 Tiendas-Departamentos con mejor MAPE y las 10 peores."
   ]
  },
  {
   "cell_type": "code",
   "execution_count": null,
   "metadata": {},
   "outputs": [],
   "source": []
  },
  {
   "cell_type": "markdown",
   "metadata": {},
   "source": [
    "7. Muestre en un gráfico de linea su pronóstico versus la data real para la Tienda-Departamento con mejor MAPE."
   ]
  },
  {
   "cell_type": "code",
   "execution_count": null,
   "metadata": {},
   "outputs": [],
   "source": []
  }
 ],
 "metadata": {
  "kernelspec": {
   "display_name": "Python 3",
   "language": "python",
   "name": "python3"
  },
  "language_info": {
   "codemirror_mode": {
    "name": "ipython",
    "version": 3
   },
   "file_extension": ".py",
   "mimetype": "text/x-python",
   "name": "python",
   "nbconvert_exporter": "python",
   "pygments_lexer": "ipython3",
   "version": "3.7.4"
  }
 },
 "nbformat": 4,
 "nbformat_minor": 4
}
